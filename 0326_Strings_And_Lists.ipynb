{
 "cells": [
  {
   "cell_type": "code",
   "execution_count": 5,
   "id": "26815b21",
   "metadata": {},
   "outputs": [
    {
     "data": {
      "text/plain": [
       "'hello there'"
      ]
     },
     "execution_count": 5,
     "metadata": {},
     "output_type": "execute_result"
    }
   ],
   "source": [
    "'hello ' + 'there'"
   ]
  },
  {
   "cell_type": "code",
   "execution_count": 3,
   "id": "6bc073aa",
   "metadata": {},
   "outputs": [],
   "source": [
    "name = 'xyz'\n",
    "age = 20"
   ]
  },
  {
   "cell_type": "code",
   "execution_count": 4,
   "id": "26addeb3",
   "metadata": {},
   "outputs": [
    {
     "data": {
      "text/plain": [
       "'hello xyz'"
      ]
     },
     "execution_count": 4,
     "metadata": {},
     "output_type": "execute_result"
    }
   ],
   "source": [
    "'hello ' + name"
   ]
  },
  {
   "cell_type": "code",
   "execution_count": 8,
   "id": "6c99c63f",
   "metadata": {},
   "outputs": [
    {
     "data": {
      "text/plain": [
       "'hello xyz. Your age is '"
      ]
     },
     "execution_count": 8,
     "metadata": {},
     "output_type": "execute_result"
    }
   ],
   "source": [
    "'hello ' + name + '. Your age is '"
   ]
  },
  {
   "cell_type": "code",
   "execution_count": 10,
   "id": "71f68120",
   "metadata": {},
   "outputs": [
    {
     "data": {
      "text/plain": [
       "'hello xyz. Your age is 20'"
      ]
     },
     "execution_count": 10,
     "metadata": {},
     "output_type": "execute_result"
    }
   ],
   "source": [
    "'hello ' + name + '. Your age is ' + str(age)"
   ]
  },
  {
   "cell_type": "code",
   "execution_count": 12,
   "id": "796c9ead",
   "metadata": {},
   "outputs": [
    {
     "data": {
      "text/plain": [
       "'xyz welcome to python class. Your age is 20'"
      ]
     },
     "execution_count": 12,
     "metadata": {},
     "output_type": "execute_result"
    }
   ],
   "source": [
    "name + ' welcome to python class. Your age is ' + str(age)"
   ]
  },
  {
   "cell_type": "code",
   "execution_count": 13,
   "id": "4751024d",
   "metadata": {},
   "outputs": [],
   "source": [
    "#print('Name is ' + name + ', age is ' + str(age) + ' and weight is ' + str(weight)) "
   ]
  },
  {
   "cell_type": "code",
   "execution_count": 19,
   "id": "f7929391",
   "metadata": {},
   "outputs": [
    {
     "data": {
      "text/plain": [
       "'Name is xyz, age is 20 and weight is 34.2'"
      ]
     },
     "execution_count": 19,
     "metadata": {},
     "output_type": "execute_result"
    }
   ],
   "source": [
    "weight = 34.2\n",
    "'Name is ' + name + ', age is ' + str(age) + ' and weight is ' + str(weight)"
   ]
  },
  {
   "cell_type": "code",
   "execution_count": null,
   "id": "47a650a5",
   "metadata": {},
   "outputs": [],
   "source": []
  },
  {
   "cell_type": "code",
   "execution_count": 20,
   "id": "185b048a",
   "metadata": {},
   "outputs": [],
   "source": [
    "formatter = 'Hi {}! Welcome to Python class. This is your {} class. Hope you are enjoying it.'"
   ]
  },
  {
   "cell_type": "code",
   "execution_count": 21,
   "id": "a9ae222c",
   "metadata": {},
   "outputs": [
    {
     "data": {
      "text/plain": [
       "'Hi {}! Welcome to Python class. This is your {} class. Hope you are enjoying it.'"
      ]
     },
     "execution_count": 21,
     "metadata": {},
     "output_type": "execute_result"
    }
   ],
   "source": [
    "formatter"
   ]
  },
  {
   "cell_type": "code",
   "execution_count": 22,
   "id": "a830a8f5",
   "metadata": {},
   "outputs": [
    {
     "data": {
      "text/plain": [
       "'Hi Nandini! Welcome to Python class. This is your 11 class. Hope you are enjoying it.'"
      ]
     },
     "execution_count": 22,
     "metadata": {},
     "output_type": "execute_result"
    }
   ],
   "source": [
    "formatter.format('Nandini', 11)"
   ]
  },
  {
   "cell_type": "code",
   "execution_count": 23,
   "id": "4fc5cbb6",
   "metadata": {},
   "outputs": [],
   "source": [
    "formatter1 = 'Hi {}. This is your marks list. Total is {}. Percentage is {}. Final status is {}.'"
   ]
  },
  {
   "cell_type": "code",
   "execution_count": 24,
   "id": "881a6261",
   "metadata": {},
   "outputs": [
    {
     "data": {
      "text/plain": [
       "'Hi {}. This is your marks list. Total is {}. Percentage is {}. Final status is {}.'"
      ]
     },
     "execution_count": 24,
     "metadata": {},
     "output_type": "execute_result"
    }
   ],
   "source": [
    "formatter1"
   ]
  },
  {
   "cell_type": "code",
   "execution_count": 28,
   "id": "8af2bd0c",
   "metadata": {},
   "outputs": [
    {
     "data": {
      "text/plain": [
       "'Hi Nandini21. This is your marks list. Total is 342. Percentage is 67.1. Final status is FAIL.'"
      ]
     },
     "execution_count": 28,
     "metadata": {},
     "output_type": "execute_result"
    }
   ],
   "source": [
    "formatter1.format('Nandini21',342,67.1,'FAIL')"
   ]
  },
  {
   "cell_type": "code",
   "execution_count": 29,
   "id": "fe64f32c",
   "metadata": {},
   "outputs": [
    {
     "data": {
      "text/plain": [
       "'Hi 123. This is your marks list. Total is 342. Percentage is 67. Final status is FAIL.'"
      ]
     },
     "execution_count": 29,
     "metadata": {},
     "output_type": "execute_result"
    }
   ],
   "source": [
    "#alternate option - with placeholders\n",
    "'Hi %s. This is your marks list. Total is %d. Percentage is %d. Final status is %s.'%('Nandini',342,67.1,'FAIL')\n",
    "\n",
    "# %s - string\n",
    "# %d - integer\n",
    "# %r - string representation"
   ]
  },
  {
   "cell_type": "code",
   "execution_count": 31,
   "id": "ca3bf981",
   "metadata": {},
   "outputs": [
    {
     "data": {
      "text/plain": [
       "'Hi Nandini. This is your marks list. Total is 342. Percentage is 67.1. Final status is FAIL.'"
      ]
     },
     "execution_count": 31,
     "metadata": {},
     "output_type": "execute_result"
    }
   ],
   "source": [
    "'Hi %s. This is your marks list. Total is %s. Percentage is %s. Final status is %s.'%('Nandini',342,67.1,'FAIL')"
   ]
  },
  {
   "cell_type": "code",
   "execution_count": 35,
   "id": "1ea8e319",
   "metadata": {},
   "outputs": [
    {
     "name": "stdout",
     "output_type": "stream",
     "text": [
      "Hi xyz. This is your marks list. Total is 342. Percentage is 67.1. Final status is FAIL.\n"
     ]
    }
   ],
   "source": [
    "print('Hi %s. This is your marks list. Total is %s. Percentage is %s. Final status is %s.'%(name,342,67.1,'FAIL'))"
   ]
  },
  {
   "cell_type": "code",
   "execution_count": 33,
   "id": "e881430c",
   "metadata": {},
   "outputs": [
    {
     "name": "stdout",
     "output_type": "stream",
     "text": [
      "Hi 'Nandini'. This is your marks list. Total is 342. Percentage is 67.1. Final status is 'FAIL'.\n"
     ]
    }
   ],
   "source": [
    "print('Hi %r. This is your marks list. Total is %r. Percentage is %r. Final status is %r.'%('Nandini',342,67.1,'FAIL'))"
   ]
  },
  {
   "cell_type": "code",
   "execution_count": null,
   "id": "e0fd20a6",
   "metadata": {},
   "outputs": [],
   "source": []
  },
  {
   "cell_type": "code",
   "execution_count": 37,
   "id": "7d7e9262",
   "metadata": {},
   "outputs": [
    {
     "data": {
      "text/plain": [
       "'Hi xyz. This is your marks list. Total is 350. Percentage is 55.333345. Final status is PASS.'"
      ]
     },
     "execution_count": 37,
     "metadata": {},
     "output_type": "execute_result"
    }
   ],
   "source": [
    "name = 'xyz'\n",
    "total = 350\n",
    "percentage = 55.333345\n",
    "status = 'PASS'\n",
    "f'Hi {name}. This is your marks list. Total is {total}. Percentage is {percentage}. Final status is {status}.' # f-string"
   ]
  },
  {
   "cell_type": "code",
   "execution_count": 38,
   "id": "9d883abc",
   "metadata": {},
   "outputs": [
    {
     "name": "stdout",
     "output_type": "stream",
     "text": [
      "Hi xyz. This is your marks list. Total is 350. Percentage is 55.333345. Final status is PASS.\n"
     ]
    }
   ],
   "source": [
    "print('Hi %s. This is your marks list. Total is %s. Percentage is %s. Final status is %s.'%(name,total,percentage,status))"
   ]
  },
  {
   "cell_type": "code",
   "execution_count": null,
   "id": "ab6db4aa",
   "metadata": {},
   "outputs": [],
   "source": []
  },
  {
   "cell_type": "code",
   "execution_count": 39,
   "id": "8d43cf0a",
   "metadata": {},
   "outputs": [],
   "source": [
    "#list"
   ]
  },
  {
   "cell_type": "code",
   "execution_count": 75,
   "id": "7dc6a0bc",
   "metadata": {},
   "outputs": [],
   "source": [
    "list1 = [100,200,300,400,500,600,700,100,200,300,500,100]"
   ]
  },
  {
   "cell_type": "code",
   "execution_count": 76,
   "id": "446765bd",
   "metadata": {},
   "outputs": [
    {
     "data": {
      "text/plain": [
       "[100, 200, 300, 400, 500, 600, 700, 100, 200, 300, 500, 100]"
      ]
     },
     "execution_count": 76,
     "metadata": {},
     "output_type": "execute_result"
    }
   ],
   "source": [
    "list1"
   ]
  },
  {
   "cell_type": "code",
   "execution_count": 77,
   "id": "c82bb921",
   "metadata": {},
   "outputs": [
    {
     "data": {
      "text/plain": [
       "3"
      ]
     },
     "execution_count": 77,
     "metadata": {},
     "output_type": "execute_result"
    }
   ],
   "source": [
    "list1.count(100)"
   ]
  },
  {
   "cell_type": "code",
   "execution_count": 78,
   "id": "551d729b",
   "metadata": {},
   "outputs": [
    {
     "data": {
      "text/plain": [
       "0"
      ]
     },
     "execution_count": 78,
     "metadata": {},
     "output_type": "execute_result"
    }
   ],
   "source": [
    "list1.count(900)"
   ]
  },
  {
   "cell_type": "code",
   "execution_count": 79,
   "id": "d6b7de52",
   "metadata": {},
   "outputs": [
    {
     "data": {
      "text/plain": [
       "2"
      ]
     },
     "execution_count": 79,
     "metadata": {},
     "output_type": "execute_result"
    }
   ],
   "source": [
    "list1.count(300)"
   ]
  },
  {
   "cell_type": "code",
   "execution_count": 80,
   "id": "f83a4d5e",
   "metadata": {},
   "outputs": [],
   "source": [
    "list1.append(900) # to add item to the list"
   ]
  },
  {
   "cell_type": "code",
   "execution_count": 81,
   "id": "384ba52e",
   "metadata": {},
   "outputs": [
    {
     "data": {
      "text/plain": [
       "[100, 200, 300, 400, 500, 600, 700, 100, 200, 300, 500, 100, 900]"
      ]
     },
     "execution_count": 81,
     "metadata": {},
     "output_type": "execute_result"
    }
   ],
   "source": [
    "list1"
   ]
  },
  {
   "cell_type": "code",
   "execution_count": 82,
   "id": "8690aea9",
   "metadata": {},
   "outputs": [
    {
     "data": {
      "text/plain": [
       "900"
      ]
     },
     "execution_count": 82,
     "metadata": {},
     "output_type": "execute_result"
    }
   ],
   "source": [
    "list1.pop() # default value is -1"
   ]
  },
  {
   "cell_type": "code",
   "execution_count": 83,
   "id": "e5cd3839",
   "metadata": {},
   "outputs": [
    {
     "data": {
      "text/plain": [
       "[100, 200, 300, 400, 500, 600, 700, 100, 200, 300, 500, 100]"
      ]
     },
     "execution_count": 83,
     "metadata": {},
     "output_type": "execute_result"
    }
   ],
   "source": [
    "list1"
   ]
  },
  {
   "cell_type": "code",
   "execution_count": 84,
   "id": "d8e6039e",
   "metadata": {},
   "outputs": [
    {
     "data": {
      "text/plain": [
       "400"
      ]
     },
     "execution_count": 84,
     "metadata": {},
     "output_type": "execute_result"
    }
   ],
   "source": [
    "list1.pop(3) # to remove item from list"
   ]
  },
  {
   "cell_type": "code",
   "execution_count": 86,
   "id": "22c323e8",
   "metadata": {},
   "outputs": [
    {
     "data": {
      "text/plain": [
       "[100, 200, 300, 500, 600, 700, 100, 200, 300, 500, 100]"
      ]
     },
     "execution_count": 86,
     "metadata": {},
     "output_type": "execute_result"
    }
   ],
   "source": [
    "list1"
   ]
  },
  {
   "cell_type": "code",
   "execution_count": 87,
   "id": "fc5dd299",
   "metadata": {},
   "outputs": [],
   "source": [
    "list1.remove(200) # to remove first occurrence of item"
   ]
  },
  {
   "cell_type": "code",
   "execution_count": 88,
   "id": "7e870b51",
   "metadata": {},
   "outputs": [
    {
     "data": {
      "text/plain": [
       "[100, 300, 500, 600, 700, 100, 200, 300, 500, 100]"
      ]
     },
     "execution_count": 88,
     "metadata": {},
     "output_type": "execute_result"
    }
   ],
   "source": [
    "list1"
   ]
  },
  {
   "cell_type": "code",
   "execution_count": 89,
   "id": "2af5ef11",
   "metadata": {},
   "outputs": [
    {
     "ename": "ValueError",
     "evalue": "list.remove(x): x not in list",
     "output_type": "error",
     "traceback": [
      "\u001b[1;31m---------------------------------------------------------------------------\u001b[0m",
      "\u001b[1;31mValueError\u001b[0m                                Traceback (most recent call last)",
      "\u001b[1;32m<ipython-input-89-985ef097311d>\u001b[0m in \u001b[0;36m<module>\u001b[1;34m\u001b[0m\n\u001b[1;32m----> 1\u001b[1;33m \u001b[0mlist1\u001b[0m\u001b[1;33m.\u001b[0m\u001b[0mremove\u001b[0m\u001b[1;33m(\u001b[0m\u001b[1;36m400\u001b[0m\u001b[1;33m)\u001b[0m\u001b[1;33m\u001b[0m\u001b[1;33m\u001b[0m\u001b[0m\n\u001b[0m\u001b[0;32m      2\u001b[0m \u001b[1;31m# error occurred as 400 is not there in the list\u001b[0m\u001b[1;33m\u001b[0m\u001b[1;33m\u001b[0m\u001b[1;33m\u001b[0m\u001b[0m\n",
      "\u001b[1;31mValueError\u001b[0m: list.remove(x): x not in list"
     ]
    }
   ],
   "source": [
    "list1.remove(400)\n",
    "# error occurred as 400 is not there in the list"
   ]
  },
  {
   "cell_type": "code",
   "execution_count": 90,
   "id": "e2bb1cb0",
   "metadata": {},
   "outputs": [
    {
     "data": {
      "text/plain": [
       "[100, 300, 500, 600, 700, 100, 200, 300, 500, 100]"
      ]
     },
     "execution_count": 90,
     "metadata": {},
     "output_type": "execute_result"
    }
   ],
   "source": [
    "list1"
   ]
  },
  {
   "cell_type": "code",
   "execution_count": 91,
   "id": "73c71d03",
   "metadata": {},
   "outputs": [],
   "source": [
    "list1.remove(100)"
   ]
  },
  {
   "cell_type": "code",
   "execution_count": 92,
   "id": "f5a29af8",
   "metadata": {},
   "outputs": [
    {
     "data": {
      "text/plain": [
       "[300, 500, 600, 700, 100, 200, 300, 500, 100]"
      ]
     },
     "execution_count": 92,
     "metadata": {},
     "output_type": "execute_result"
    }
   ],
   "source": [
    "list1"
   ]
  },
  {
   "cell_type": "code",
   "execution_count": 93,
   "id": "21a02bab",
   "metadata": {},
   "outputs": [],
   "source": [
    "list1.remove(100)"
   ]
  },
  {
   "cell_type": "code",
   "execution_count": 94,
   "id": "37d001e3",
   "metadata": {},
   "outputs": [
    {
     "data": {
      "text/plain": [
       "[300, 500, 600, 700, 200, 300, 500, 100]"
      ]
     },
     "execution_count": 94,
     "metadata": {},
     "output_type": "execute_result"
    }
   ],
   "source": [
    "list1"
   ]
  },
  {
   "cell_type": "code",
   "execution_count": 95,
   "id": "c8c528f0",
   "metadata": {},
   "outputs": [],
   "source": [
    "list1.remove(100)"
   ]
  },
  {
   "cell_type": "code",
   "execution_count": 96,
   "id": "746fd536",
   "metadata": {},
   "outputs": [
    {
     "data": {
      "text/plain": [
       "[300, 500, 600, 700, 200, 300, 500]"
      ]
     },
     "execution_count": 96,
     "metadata": {},
     "output_type": "execute_result"
    }
   ],
   "source": [
    "list1"
   ]
  },
  {
   "cell_type": "code",
   "execution_count": 97,
   "id": "fe1d7339",
   "metadata": {},
   "outputs": [
    {
     "ename": "ValueError",
     "evalue": "list.remove(x): x not in list",
     "output_type": "error",
     "traceback": [
      "\u001b[1;31m---------------------------------------------------------------------------\u001b[0m",
      "\u001b[1;31mValueError\u001b[0m                                Traceback (most recent call last)",
      "\u001b[1;32m<ipython-input-97-fdfc3063a8ae>\u001b[0m in \u001b[0;36m<module>\u001b[1;34m\u001b[0m\n\u001b[1;32m----> 1\u001b[1;33m \u001b[0mlist1\u001b[0m\u001b[1;33m.\u001b[0m\u001b[0mremove\u001b[0m\u001b[1;33m(\u001b[0m\u001b[1;36m100\u001b[0m\u001b[1;33m)\u001b[0m\u001b[1;33m\u001b[0m\u001b[1;33m\u001b[0m\u001b[0m\n\u001b[0m",
      "\u001b[1;31mValueError\u001b[0m: list.remove(x): x not in list"
     ]
    }
   ],
   "source": [
    "list1.remove(100)"
   ]
  },
  {
   "cell_type": "code",
   "execution_count": 98,
   "id": "f0f6fb22",
   "metadata": {},
   "outputs": [
    {
     "data": {
      "text/plain": [
       "4"
      ]
     },
     "execution_count": 98,
     "metadata": {},
     "output_type": "execute_result"
    }
   ],
   "source": [
    "list1.index(200)"
   ]
  },
  {
   "cell_type": "code",
   "execution_count": 100,
   "id": "dd0a5852",
   "metadata": {},
   "outputs": [
    {
     "data": {
      "text/plain": [
       "1"
      ]
     },
     "execution_count": 100,
     "metadata": {},
     "output_type": "execute_result"
    }
   ],
   "source": [
    "list1.index(500) \n",
    "\n",
    "# to get help - shift + tab\n",
    "# to get suggestions - tab"
   ]
  },
  {
   "cell_type": "code",
   "execution_count": 101,
   "id": "5d618e24",
   "metadata": {},
   "outputs": [
    {
     "data": {
      "text/plain": [
       "[300, 500, 600, 700, 200, 300, 500]"
      ]
     },
     "execution_count": 101,
     "metadata": {},
     "output_type": "execute_result"
    }
   ],
   "source": [
    "list1"
   ]
  },
  {
   "cell_type": "code",
   "execution_count": 102,
   "id": "301cd1f8",
   "metadata": {},
   "outputs": [],
   "source": [
    "list1.sort() # default - ascending"
   ]
  },
  {
   "cell_type": "code",
   "execution_count": 103,
   "id": "051430d4",
   "metadata": {},
   "outputs": [
    {
     "data": {
      "text/plain": [
       "[200, 300, 300, 500, 500, 600, 700]"
      ]
     },
     "execution_count": 103,
     "metadata": {},
     "output_type": "execute_result"
    }
   ],
   "source": [
    "list1"
   ]
  },
  {
   "cell_type": "code",
   "execution_count": 104,
   "id": "985433a9",
   "metadata": {},
   "outputs": [],
   "source": [
    "list1.sort(reverse=True) # descending"
   ]
  },
  {
   "cell_type": "code",
   "execution_count": 105,
   "id": "0b7c154c",
   "metadata": {},
   "outputs": [
    {
     "data": {
      "text/plain": [
       "[700, 600, 500, 500, 300, 300, 200]"
      ]
     },
     "execution_count": 105,
     "metadata": {},
     "output_type": "execute_result"
    }
   ],
   "source": [
    "list1"
   ]
  },
  {
   "cell_type": "code",
   "execution_count": null,
   "id": "b2416ff0",
   "metadata": {},
   "outputs": [],
   "source": []
  },
  {
   "cell_type": "code",
   "execution_count": 106,
   "id": "1670001c",
   "metadata": {},
   "outputs": [],
   "source": [
    "list1 = [100,200,300,400,500,600,700,100,200,300,500,100]"
   ]
  },
  {
   "cell_type": "code",
   "execution_count": 107,
   "id": "9cbd1d75",
   "metadata": {},
   "outputs": [
    {
     "data": {
      "text/plain": [
       "[100, 200, 300, 400, 500, 600, 700, 100, 200, 300, 500, 100]"
      ]
     },
     "execution_count": 107,
     "metadata": {},
     "output_type": "execute_result"
    }
   ],
   "source": [
    "list1"
   ]
  },
  {
   "cell_type": "code",
   "execution_count": 108,
   "id": "84db1159",
   "metadata": {},
   "outputs": [],
   "source": [
    "list1.reverse() # list1[::-1]"
   ]
  },
  {
   "cell_type": "code",
   "execution_count": 109,
   "id": "913efb6d",
   "metadata": {},
   "outputs": [
    {
     "data": {
      "text/plain": [
       "[100, 500, 300, 200, 100, 700, 600, 500, 400, 300, 200, 100]"
      ]
     },
     "execution_count": 109,
     "metadata": {},
     "output_type": "execute_result"
    }
   ],
   "source": [
    "list1"
   ]
  },
  {
   "cell_type": "code",
   "execution_count": 111,
   "id": "2c65f34e",
   "metadata": {},
   "outputs": [],
   "source": [
    "list1.reverse()"
   ]
  },
  {
   "cell_type": "code",
   "execution_count": 112,
   "id": "09814cc1",
   "metadata": {},
   "outputs": [
    {
     "data": {
      "text/plain": [
       "[100, 200, 300, 400, 500, 600, 700, 100, 200, 300, 500, 100]"
      ]
     },
     "execution_count": 112,
     "metadata": {},
     "output_type": "execute_result"
    }
   ],
   "source": [
    "list1"
   ]
  },
  {
   "cell_type": "code",
   "execution_count": 113,
   "id": "a017fd31",
   "metadata": {},
   "outputs": [
    {
     "data": {
      "text/plain": [
       "[100, 500, 300, 200, 100, 700, 600, 500, 400, 300, 200, 100]"
      ]
     },
     "execution_count": 113,
     "metadata": {},
     "output_type": "execute_result"
    }
   ],
   "source": [
    "list1[::-1] # equal to .reverse()"
   ]
  },
  {
   "cell_type": "code",
   "execution_count": 114,
   "id": "5b4725fb",
   "metadata": {},
   "outputs": [
    {
     "data": {
      "text/plain": [
       "[100, 200, 300, 400, 500, 600, 700, 100, 200, 300, 500, 100]"
      ]
     },
     "execution_count": 114,
     "metadata": {},
     "output_type": "execute_result"
    }
   ],
   "source": [
    "list1"
   ]
  },
  {
   "cell_type": "code",
   "execution_count": 115,
   "id": "5c59c44b",
   "metadata": {},
   "outputs": [],
   "source": [
    "list2 = [1,2,3,4,5]"
   ]
  },
  {
   "cell_type": "code",
   "execution_count": 116,
   "id": "759d0843",
   "metadata": {},
   "outputs": [
    {
     "data": {
      "text/plain": [
       "[5, 4, 3, 2, 1]"
      ]
     },
     "execution_count": 116,
     "metadata": {},
     "output_type": "execute_result"
    }
   ],
   "source": [
    "list2[::-1] # displays the list in reverse order"
   ]
  },
  {
   "cell_type": "code",
   "execution_count": 117,
   "id": "58a6c986",
   "metadata": {},
   "outputs": [
    {
     "data": {
      "text/plain": [
       "[1, 2, 3, 4, 5]"
      ]
     },
     "execution_count": 117,
     "metadata": {},
     "output_type": "execute_result"
    }
   ],
   "source": [
    "list2"
   ]
  },
  {
   "cell_type": "code",
   "execution_count": 118,
   "id": "60b10097",
   "metadata": {},
   "outputs": [],
   "source": [
    "list2.reverse() # changes list to reverse order"
   ]
  },
  {
   "cell_type": "code",
   "execution_count": 119,
   "id": "f6e84360",
   "metadata": {},
   "outputs": [
    {
     "data": {
      "text/plain": [
       "[5, 4, 3, 2, 1]"
      ]
     },
     "execution_count": 119,
     "metadata": {},
     "output_type": "execute_result"
    }
   ],
   "source": [
    "list2"
   ]
  },
  {
   "cell_type": "code",
   "execution_count": 120,
   "id": "baf72fcc",
   "metadata": {},
   "outputs": [
    {
     "data": {
      "text/plain": [
       "[100, 200, 300, 400, 500, 600, 700, 100, 200, 300, 500, 100]"
      ]
     },
     "execution_count": 120,
     "metadata": {},
     "output_type": "execute_result"
    }
   ],
   "source": [
    "list1"
   ]
  },
  {
   "cell_type": "code",
   "execution_count": 121,
   "id": "d30728a8",
   "metadata": {},
   "outputs": [],
   "source": [
    "list1.clear()"
   ]
  },
  {
   "cell_type": "code",
   "execution_count": 122,
   "id": "88323645",
   "metadata": {},
   "outputs": [
    {
     "data": {
      "text/plain": [
       "[]"
      ]
     },
     "execution_count": 122,
     "metadata": {},
     "output_type": "execute_result"
    }
   ],
   "source": [
    "list1"
   ]
  },
  {
   "cell_type": "code",
   "execution_count": 123,
   "id": "cbb82d69",
   "metadata": {},
   "outputs": [],
   "source": [
    "list2.clear()"
   ]
  },
  {
   "cell_type": "code",
   "execution_count": 124,
   "id": "c3a0344d",
   "metadata": {},
   "outputs": [
    {
     "data": {
      "text/plain": [
       "[]"
      ]
     },
     "execution_count": 124,
     "metadata": {},
     "output_type": "execute_result"
    }
   ],
   "source": [
    "list2"
   ]
  },
  {
   "cell_type": "code",
   "execution_count": 125,
   "id": "f9f29f39",
   "metadata": {},
   "outputs": [],
   "source": [
    "list1 = [100,200,300,400,500,600,700,100,200,300,500,100]"
   ]
  },
  {
   "cell_type": "code",
   "execution_count": 126,
   "id": "014888ed",
   "metadata": {},
   "outputs": [],
   "source": [
    "list3 = ['abc','def','ghi','jkl','mno']"
   ]
  },
  {
   "cell_type": "code",
   "execution_count": 127,
   "id": "d5464b2f",
   "metadata": {},
   "outputs": [
    {
     "data": {
      "text/plain": [
       "['abc', 'def', 'ghi', 'jkl', 'mno']"
      ]
     },
     "execution_count": 127,
     "metadata": {},
     "output_type": "execute_result"
    }
   ],
   "source": [
    "list3"
   ]
  },
  {
   "cell_type": "code",
   "execution_count": 128,
   "id": "ffe784ff",
   "metadata": {},
   "outputs": [],
   "source": [
    "list3.reverse()"
   ]
  },
  {
   "cell_type": "code",
   "execution_count": 129,
   "id": "8c567f02",
   "metadata": {},
   "outputs": [
    {
     "data": {
      "text/plain": [
       "['mno', 'jkl', 'ghi', 'def', 'abc']"
      ]
     },
     "execution_count": 129,
     "metadata": {},
     "output_type": "execute_result"
    }
   ],
   "source": [
    "list3"
   ]
  },
  {
   "cell_type": "code",
   "execution_count": 130,
   "id": "0ab477af",
   "metadata": {},
   "outputs": [],
   "source": [
    "list3.sort()"
   ]
  },
  {
   "cell_type": "code",
   "execution_count": 131,
   "id": "6b513e86",
   "metadata": {},
   "outputs": [
    {
     "data": {
      "text/plain": [
       "['abc', 'def', 'ghi', 'jkl', 'mno']"
      ]
     },
     "execution_count": 131,
     "metadata": {},
     "output_type": "execute_result"
    }
   ],
   "source": [
    "list3"
   ]
  },
  {
   "cell_type": "code",
   "execution_count": null,
   "id": "942f0399",
   "metadata": {},
   "outputs": [],
   "source": []
  }
 ],
 "metadata": {
  "kernelspec": {
   "display_name": "Python 3",
   "language": "python",
   "name": "python3"
  },
  "language_info": {
   "codemirror_mode": {
    "name": "ipython",
    "version": 3
   },
   "file_extension": ".py",
   "mimetype": "text/x-python",
   "name": "python",
   "nbconvert_exporter": "python",
   "pygments_lexer": "ipython3",
   "version": "3.8.8"
  }
 },
 "nbformat": 4,
 "nbformat_minor": 5
}
